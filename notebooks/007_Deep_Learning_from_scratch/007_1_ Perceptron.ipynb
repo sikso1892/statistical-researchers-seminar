{
 "cells": [
  {
   "attachments": {},
   "cell_type": "markdown",
   "metadata": {},
   "source": [
    "# 1. 퍼셉트론(Perceptron)?\n",
    "\n",
    " 퍼셉트론이란, 프랑크 로젠브란트가 1957년에 고안한 알고리즘입니다. 퍼셉트론은 신경망(딥러닝)의 기원이 되는 알고리즘 입니다. 퍼셉트론은 다수의 신호를 입력으로 받아 하나의 신호를 출력합니다. 퍼셉트론은 1(신호가 흐른다) 0(신호가 흐르지 않는다.) 신호를 출력하여 앞으로 전달합니다. \n",
    "\n",
    "![입력이 2개인 퍼셉트론](https://img1.daumcdn.net/thumb/R1280x0/?scode=mtistory2&fname=https%3A%2F%2Fblog.kakaocdn.net%2Fdn%2Fm8k58%2FbtqIasGxlM3%2FQuFyNZi1KsII7bKJrDm57k%2Fimg.png)\n",
    "- $x_2$와 $x_1$는 입력신호\n",
    "- y는 출력 신호, w_1와 w_2는 가중치를 의미합니.\n",
    "- 원을 뉴런 혹은 노드라고 부릅니다.\n",
    "\n",
    "#### 퍼셉트론의 동작원리\n",
    "1. 입력 신호가 뉴런에 보내질 때는 각각 고유한 가중치가 곱해집니다. (w_1x_1, w_2x_2)\n",
    "2. 뉴런에서 보내온 신호의 총합이 정해진 한계(임계값)를 넘어설 때만 1을 출력합니다. \n",
    "    - '뉴런이 활성화 한다'라고 표현 합니다.\n",
    "    - 정해진 한계를 임계값이라고 하며, $\\theta$로 나타냅니다.\n",
    "\n",
    "이를 수식으로 나타내면 다음과 같이 됩니다.\n",
    "$$\n",
    "y = \\begin{cases}\n",
    "    0 & (w_1x_1 + w_2x_2 \\leq \\theta) \\\\\n",
    "    1 & (w_1x_1 + w_2x_2 > \\theta)\n",
    "    \\end{cases}\n",
    "$$\n",
    "\n",
    "퍼셉트론은 복수의 입력 신호 각각에 고유한 가중치를 부여합니다. 가중치는 각 신호가 결과에 주는 영향력을 조절하는 요소로 작용합니다. 즉, 가중치가 클수록 해당 신호가 그만큼 더 중요함을 뜻합니다.\n",
    "\n",
    "# 2. 단순한 논리 회로\n",
    "\n",
    "퍼셉트론에 이용될 수 있는 간단한 논리회로에 대해 설명하겠습니다.\n",
    "\n",
    "## 2.1 AND 게이트\n",
    "\n",
    "AND 게이트는 입력이 둘이고 출력은 하나입니다. 두 입력이 모두 1일 때만 1을 출력하고, 그 외에는 0을 출력합니다.\n",
    "![AND게이트의 진리표](https://img1.daumcdn.net/thumb/R1280x0/?scode=mtistory2&fname=https%3A%2F%2Fblog.kakaocdn.net%2Fdn%2FCHvny%2FbtqH2cyae1X%2FSK7XyA4Ef8zM5YkqbjBiNK%2Fimg.png)\n",
    "\n",
    "위의 진리표대로 작동하도록 하는 $(w_1, w_2, \\theta)$는 $(0.5, 0.5, 0.7)$등 무수히 많습니다.\n",
    "$x_1w_1 + x_2w_2 > \\theta$인 경우에만 1을 출력하게 됩니다.\n",
    "\n",
    "## 2.2 NAND 게이트와 OR 게이트\n",
    "\n",
    "NAND는 Not AND를 의미하며, 그 동작은 AND 게이트의 출력을 뒤집은 것이 됩니다.\n",
    "![NAND 게이트의 진리표](https://img1.daumcdn.net/thumb/R1280x0/?scode=mtistory2&fname=https%3A%2F%2Fblog.kakaocdn.net%2Fdn%2Fdc06sB%2FbtqH2dRuj1T%2F4QHARCnLnetDPJ2vKiwaF1%2Fimg.png)\n",
    "\n",
    "NAND게이트를 표현하려면 예를 들어 $(w_1, w_2, \\theta)$ = $(-0.5, -0.5, -0.7)$ 등 무수히 많은 조합이 있습니다. \n",
    "\n",
    "OR 게이트는 입력 신호 중 하나 이상이 1이면 출력이 1이 되는 논리 회로입니다.\n",
    "![OR 게이트의 진리표](https://img1.daumcdn.net/thumb/R1280x0/?scode=mtistory2&fname=https%3A%2F%2Fblog.kakaocdn.net%2Fdn%2FcwaFDo%2FbtqHVozH8TG%2FbBsdUkbs6kN1gvP9KywEh1%2Fimg.png)\n",
    "\n",
    "OR 게이트의 매개변수는 $(w_1, w_2, \\theta)$ = $(0.5, 0.5, 0.3)$으로 나타낼 수 있습니다.\n",
    "\n",
    "> 기계학습은 이 매개변수의 값을 정하는 작업을 컴퓨터가 자동으로 하도록 합니다. 학습이란 적절한 매개변수 값을 정하는 작업이며, 사람은 퍼셉트론의 구조(모델)를 고민하고 컴퓨터에 학습할 데이터를 주는 일을 합니다.\n",
    "\n",
    "여기서 중요한 점은 퍼셉트론의 구조는 AND, NAND, OR 게이트 모두에서 똑같다는 것입니다. 세 가지 게이트에서 다른 것은 매개변수 (가중치와 임계값)의 값이므로, 값만 적절히 조정하여 AND, NAND, OR로 변신할 수 있습니다.\n",
    "\n",
    "# 3. 퍼셉트론 구현하기\n",
    "\n",
    "## 3.1 AND함수 구현\n"
   ]
  },
  {
   "cell_type": "code",
   "execution_count": 2,
   "metadata": {},
   "outputs": [
    {
     "data": {
      "text/plain": [
       "0"
      ]
     },
     "metadata": {},
     "output_type": "display_data"
    },
    {
     "data": {
      "text/plain": [
       "0"
      ]
     },
     "metadata": {},
     "output_type": "display_data"
    },
    {
     "data": {
      "text/plain": [
       "0"
      ]
     },
     "metadata": {},
     "output_type": "display_data"
    },
    {
     "data": {
      "text/plain": [
       "1"
      ]
     },
     "metadata": {},
     "output_type": "display_data"
    }
   ],
   "source": [
    "def AND(x1, x2):\n",
    "    w1, w2, theta = 0.5, 0.5, 0.7\n",
    "    tmp = x1 * w1 + x2 * w2\n",
    "    if tmp <= theta:\n",
    "        return 0\n",
    "    elif tmp > theta:\n",
    "        return 1\n",
    "display(\n",
    "AND(0, 0),\n",
    "AND(1, 0),\n",
    "AND(0, 1),\n",
    "AND(1, 1),\n",
    "    \n",
    ")"
   ]
  },
  {
   "attachments": {},
   "cell_type": "markdown",
   "metadata": {},
   "source": [
    "## 3.2 가중치와 편향 구현하기\n",
    "퍼셉트론은 입력 신호에 가중치를 곱한 값과 편향을 합하여, 그 값이 0을 넘으면 1을 출력하고 그렇지 않으면 0을 출력합니다.\n",
    "\n",
    "$$\n",
    "y = \\begin{cases}\n",
    "    0 & (b + w_1x_1 + w_2x_2 \\leq \\theta) \\\\\n",
    "    1 & (b + w_1x_1 + w_2x_2 > \\theta)\n",
    "    \\end{cases}\n",
    "$$"
   ]
  },
  {
   "cell_type": "code",
   "execution_count": 5,
   "metadata": {},
   "outputs": [
    {
     "data": {
      "text/plain": [
       "0"
      ]
     },
     "metadata": {},
     "output_type": "display_data"
    },
    {
     "data": {
      "text/plain": [
       "0"
      ]
     },
     "metadata": {},
     "output_type": "display_data"
    },
    {
     "data": {
      "text/plain": [
       "0"
      ]
     },
     "metadata": {},
     "output_type": "display_data"
    },
    {
     "data": {
      "text/plain": [
       "1"
      ]
     },
     "metadata": {},
     "output_type": "display_data"
    }
   ],
   "source": [
    "import numpy as np\n",
    "\n",
    "def AND(x1, x2):\n",
    "    x = np.array([x1, x2])\n",
    "    w, b = np.array([0.5, 0.5]), -0.7\n",
    "    tmp = np.sum(w*x) + b\n",
    "    \n",
    "    if tmp <= 0:\n",
    "        return 0\n",
    "    elif tmp > 0:\n",
    "        return 1\n",
    "display(\n",
    "AND(0, 0),\n",
    "AND(1, 0),\n",
    "AND(0, 1),\n",
    "AND(1, 1),\n",
    ")"
   ]
  },
  {
   "attachments": {},
   "cell_type": "markdown",
   "metadata": {},
   "source": [
    "여기에서 $-\\theta$ 가 편향 $b$로 치환되었습닏ㅏ. $w_1$과 $w_2$는 각 입력 신호가 결과에 주는 영향력(중요도)을 조절하는 매개변수고, 편향은 뉴런이 얼마나 쉽게 활성화(결과를 1로 출력)하느냐를 조정하는 매개변수입니다. 편향의 값은 뉴런이 얼마나 쉽게 활성화 되는지를 결정합니다.\n",
    "\n",
    "## 3.3 NAND 게이트와 OR게이트 구현"
   ]
  },
  {
   "cell_type": "code",
   "execution_count": null,
   "metadata": {},
   "outputs": [],
   "source": [
    "def NAND(x1, x2):\n",
    "    x = np.array([x1, x2])\n",
    "    w, b = np.array([-0.5, -0.5]), 0.7\n",
    "    tmp = np.sum(w * x) + b\n",
    "    if tmp <= 0:\n",
    "        return 0\n",
    "    else:\n",
    "        return 1\n",
    "\n",
    "def OR(x1, x2):\n",
    "    x = np.array([x1, x2])\n",
    "    w, b = np.array([-0.5, -0.5]), -0.2\n",
    "    tmp = np.sum(w * x) + b\n",
    "    if tmp <= 0:\n",
    "        return 0\n",
    "    else:\n",
    "        return 1    "
   ]
  }
 ],
 "metadata": {
  "kernelspec": {
   "display_name": "Python 3 (ipykernel)",
   "language": "python",
   "name": "python3"
  },
  "language_info": {
   "codemirror_mode": {
    "name": "ipython",
    "version": 3
   },
   "file_extension": ".py",
   "mimetype": "text/x-python",
   "name": "python",
   "nbconvert_exporter": "python",
   "pygments_lexer": "ipython3",
   "version": "3.10.11"
  },
  "orig_nbformat": 4
 },
 "nbformat": 4,
 "nbformat_minor": 2
}
