{
 "cells": [
  {
   "attachments": {},
   "cell_type": "markdown",
   "metadata": {},
   "source": [
    "## 0. Machine Learning Overview \n",
    "\n",
    "Machine learning has a wide variety of applications, including image processing, translators, speech recognition, spam detection, and more. Deep learning, a branch of machine learning, is becoming an essential skill set for natural language processing engineers. In this chapter, you'll understand the concepts of machine learning and basic models such as linear regression, logistic regression, and softmax regression. You'll use this understanding to extend the concepts from basic models to deep learning models in the next chapter on deep learning.\n",
    "\n",
    "## 1. Limitations of non-machine learning approaches\n",
    "\n",
    "Let's look at an example of a problem that's difficult to solve using traditional programming writing rather than machine learning.\n",
    "\n",
    "```\n",
    "Example: Determining whether a given photo is of a cat or a dog.\n",
    "```\n",
    "\n",
    "This is an actual problem from DGIST's Deep Learning Competition in 2017. Looking at a photo and deciding whether it's a cat or a dog is a very easy task for humans, but writing a program that can solve this problem is quite challenging. How can you write code that can distinguish between a dog and a cat from an input image?\n"
   ]
  },
  {
   "cell_type": "code",
   "execution_count": 3,
   "metadata": {},
   "outputs": [],
   "source": [
    "def prediction(input):\n",
    "    output = ...\n",
    "    return output"
   ]
  },
  {
   "attachments": {},
   "cell_type": "markdown",
   "metadata": {},
   "source": [
    "![cat_1](https://wikidocs.net/images/page/21679/%EA%B3%A0%EC%96%91%EC%9D%B4_%EC%95%A1%EC%B2%B42.jpg)\n",
    "![cat_2](https://wikidocs.net/images/page/21679/%EA%B3%A0%EC%96%91%EC%9D%B4_%EC%97%89%EB%8D%A9%EC%9D%B4.jpg)\n"
   ]
  },
  {
   "attachments": {},
   "cell_type": "markdown",
   "metadata": {},
   "source": [
    "There have been a lot of attempts in this area of image recognition to define rules and capture features, trying to find things like boundaries within an image and algorithmize them, and then when other photographic images come in, trying to classify them by comparing their overall state, but those attempts are ultimately limited in their ability to capture features, and at the end of the day, the problem of finding an object in a photograph is one that is solved by machine learning, not by human rule definition."
   ]
  },
  {
   "attachments": {},
   "cell_type": "markdown",
   "metadata": {},
   "source": [
    "![](https://wikidocs.net/images/page/21679/%EC%A0%84%ED%86%B5_vs_%EB%A8%B8%EC%8B%A0%EB%9F%AC%EB%8B%9D.png)\n",
    "\n",
    "Machine learning focuses on having a machine, given data, find regularities in the data on its own. The process of finding regularities in the given data is what we call training or learning."
   ]
  },
  {
   "attachments": {},
   "cell_type": "markdown",
   "metadata": {},
   "source": [
    "## 2. Evaluating machine learning models\n",
    "\n",
    "![](https://wikidocs.net/images/page/24987/%EB%8D%B0%EC%9D%B4%ED%84%B0.PNG)"
   ]
  },
  {
   "attachments": {},
   "cell_type": "markdown",
   "metadata": {},
   "source": [
    "Once you've prepared your data for machine learning, it's common practice to separate it into three categories: training, validation, and testing. Training data is for training the machine learning model. Test data is for evaluating the performance of the trained machine learning model. But what is validation data for?\n",
    "\n",
    "The purpose of validation data is not to evaluate the performance of the model, but to tune the performance of the model. More precisely, it is used to determine if the model is __overfitting__ the training data or to adjust hyperparameters. Let's clarify the terms hyperparameters and parameters.\n",
    "\n",
    "- Hyperparameter: A variable whose value is assigned by humans that affects the performance of the model.\n",
    "- Parameters: Weights and biases. Number of valuess that keep changing during training.\n",
    "\n",
    "Typical hyperparameters are variables that you can set yourself, such as the learning rate in gradient descent for linear regression, or the number of neurons or layers in deep learning.\n",
    "\n",
    "However, parameters like weights and biases are not user-determined values, but rather values that the model learns as it trains. Once the model is fully trained on the training data, it is validated on the validation data to verify its accuracy and tune the hyperparameters. During this tuning process, the model is gradually modified to achieve higher accuracy on the validation data by changing the values of the hyperparameters.\n",
    "\n",
    "When you're done tuning and want to make a final evaluation of the model, it's no longer appropriate to evaluate the model on the training data, because the model has been tuned to improve the accuracy of the training data. The evaluation of the model is now on the test data, which is data the model has never seen. To use the analogy of a student preparing for a math proficiency test, the training data is the real-life question paper, the validation data is the practice test, and the test data is the SAT exam that finally evaluates your performance.\n"
   ]
  },
  {
   "attachments": {},
   "cell_type": "markdown",
   "metadata": {},
   "source": [
    "## 3. Classification & Regression\n",
    "\n",
    "Many, but not all, problems in machine learning fall into the category of classification or regression problems. In this chapter, we'll cover two machine learning techniques: linear regression and logistic regression, with linear regression being a typical regression problem and logistic regression being a typical classification problem (although its name is regression).\n",
    "\n",
    "Classification is also divided into Binary Classification and Multi-Class Classification. Technically, there is another problem called Multi-label Classification, but in this book we will only cover Binary Classification and Multi-Class Classification.\n",
    "\n",
    "#### 1) Binary Classification\n",
    "\n",
    "Binary classification is when you have to choose an answer between two options for a given input. Examples include looking at a comprehensive exam report card and deciding whether you passed or failed, or looking at an email and deciding whether it's legitimate or spam.\n",
    "\n",
    "#### 2) Multi-class Classification\n",
    "\n",
    "\n",
    "Multi-class classification is when you need to select an answer from three or more options for a given input. For example, imagine you work in a bookstore and there are five shelves labeled Science, English, IT, Workbooks, and Comics. When a new book comes in, they need to put it in the appropriate shelf for its category among the five shelves. This is a real-world multi-class classification problem.\n",
    "\n",
    "\n",
    "#### 3) Regression\n",
    "\n",
    "A regression problem is one in which the correct answer is not a fixed set of choices, as in a classification problem, but rather a prediction within a range of continuous values, such as when you have to choose between two options, or when you have to pick one of five bookshelves when a book comes in.\n",
    "\n",
    "For example, let's say you have a machine learning model that predicts real estate prices based on inputs like distance from a train station, population density, and number of rooms. Sometimes the machine learning model predicts the price of the property to be $784,456,345, and sometimes it predicts it to be $812,573,300. Any number within the range of values is possible. These problems, which have continuous values as outcomes rather than discrete (non-continuous) answers like traditional classification problems, are called regression problems. Examples of regression problems include stock price prediction, production forecasting, and index prediction with time series data.\n",
    "\n"
   ]
  }
 ],
 "metadata": {
  "kernelspec": {
   "display_name": "Python 3 (ipykernel)",
   "language": "python",
   "name": "python3"
  },
  "language_info": {
   "codemirror_mode": {
    "name": "ipython",
    "version": 3
   },
   "file_extension": ".py",
   "mimetype": "text/x-python",
   "name": "python",
   "nbconvert_exporter": "python",
   "pygments_lexer": "ipython3",
   "version": "3.10.11"
  },
  "orig_nbformat": 4
 },
 "nbformat": 4,
 "nbformat_minor": 2
}
