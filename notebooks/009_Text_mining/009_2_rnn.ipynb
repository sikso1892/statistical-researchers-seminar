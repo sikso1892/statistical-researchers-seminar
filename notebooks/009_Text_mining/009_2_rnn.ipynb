{
 "cells": [
  {
   "cell_type": "code",
   "execution_count": 39,
   "id": "172ac6aa-919f-4ec6-9c40-a6fb5fea82f7",
   "metadata": {
    "tags": []
   },
   "outputs": [
    {
     "data": {
      "text/html": [
       "<div>\n",
       "<style scoped>\n",
       "    .dataframe tbody tr th:only-of-type {\n",
       "        vertical-align: middle;\n",
       "    }\n",
       "\n",
       "    .dataframe tbody tr th {\n",
       "        vertical-align: top;\n",
       "    }\n",
       "\n",
       "    .dataframe thead th {\n",
       "        text-align: right;\n",
       "    }\n",
       "</style>\n",
       "<table border=\"1\" class=\"dataframe\">\n",
       "  <thead>\n",
       "    <tr style=\"text-align: right;\">\n",
       "      <th></th>\n",
       "      <th>회사명</th>\n",
       "      <th>회계년도</th>\n",
       "      <th>분기</th>\n",
       "      <th>profit</th>\n",
       "      <th>text</th>\n",
       "      <th>Y</th>\n",
       "    </tr>\n",
       "  </thead>\n",
       "  <tbody>\n",
       "    <tr>\n",
       "      <th>1</th>\n",
       "      <td>DB손해보험(주)</td>\n",
       "      <td>2018</td>\n",
       "      <td>1</td>\n",
       "      <td>210697471</td>\n",
       "      <td>금융통화위원회는 다음 통화정책방향 결정시까지 한국은행 기준금리를현 수준(1.50%)...</td>\n",
       "      <td>1.0</td>\n",
       "    </tr>\n",
       "    <tr>\n",
       "      <th>2</th>\n",
       "      <td>DB손해보험(주)</td>\n",
       "      <td>2019</td>\n",
       "      <td>1</td>\n",
       "      <td>232419677</td>\n",
       "      <td>금융통화위원회는 다음 통화정책방향 결정시까지 한국은행 기준금리를현재의 1.50%에서...</td>\n",
       "      <td>1.0</td>\n",
       "    </tr>\n",
       "    <tr>\n",
       "      <th>3</th>\n",
       "      <td>DB손해보험(주)</td>\n",
       "      <td>2020</td>\n",
       "      <td>1</td>\n",
       "      <td>226549867</td>\n",
       "      <td>금융통화위원회는 다음 통화정책방향 결정시까지 한국은행 기준금리를현 수준(1.25%)...</td>\n",
       "      <td>0.0</td>\n",
       "    </tr>\n",
       "    <tr>\n",
       "      <th>4</th>\n",
       "      <td>DB손해보험(주)</td>\n",
       "      <td>2021</td>\n",
       "      <td>1</td>\n",
       "      <td>221215499</td>\n",
       "      <td>(붙임)통화정책방향 금융통화위원회는 다음 통화정책방향 결정시까지 한국은행 기준금리를...</td>\n",
       "      <td>0.0</td>\n",
       "    </tr>\n",
       "    <tr>\n",
       "      <th>5</th>\n",
       "      <td>DB손해보험(주)</td>\n",
       "      <td>2017</td>\n",
       "      <td>2</td>\n",
       "      <td>192880168</td>\n",
       "      <td>금융통화위원회는 다음 통화정책방향 결정시까지 한국은행 기준금리를 현수준(1.25%)...</td>\n",
       "      <td>0.0</td>\n",
       "    </tr>\n",
       "    <tr>\n",
       "      <th>...</th>\n",
       "      <td>...</td>\n",
       "      <td>...</td>\n",
       "      <td>...</td>\n",
       "      <td>...</td>\n",
       "      <td>...</td>\n",
       "      <td>...</td>\n",
       "    </tr>\n",
       "    <tr>\n",
       "      <th>195</th>\n",
       "      <td>흥국화재해상보험(주)</td>\n",
       "      <td>2017</td>\n",
       "      <td>4</td>\n",
       "      <td>71589000</td>\n",
       "      <td>금융통화위원회는 다음 통화정책방향 결정시까지 한국은행 기준금리를 현수준(1.25%)...</td>\n",
       "      <td>0.0</td>\n",
       "    </tr>\n",
       "    <tr>\n",
       "      <th>196</th>\n",
       "      <td>흥국화재해상보험(주)</td>\n",
       "      <td>2018</td>\n",
       "      <td>4</td>\n",
       "      <td>73599000</td>\n",
       "      <td>금융통화위원회는 다음 통화정책방향 결정시까지 한국은행 기준금리를현 수준(1.50%)...</td>\n",
       "      <td>1.0</td>\n",
       "    </tr>\n",
       "    <tr>\n",
       "      <th>197</th>\n",
       "      <td>흥국화재해상보험(주)</td>\n",
       "      <td>2019</td>\n",
       "      <td>4</td>\n",
       "      <td>73006000</td>\n",
       "      <td>금융통화위원회는 다음 통화정책방향 결정시까지 한국은행 기준금리를현재의 1.50%에서...</td>\n",
       "      <td>0.0</td>\n",
       "    </tr>\n",
       "    <tr>\n",
       "      <th>198</th>\n",
       "      <td>흥국화재해상보험(주)</td>\n",
       "      <td>2020</td>\n",
       "      <td>4</td>\n",
       "      <td>69680000</td>\n",
       "      <td>(붙임)통화정책방향 금융통화위원회는 다음 통화정책방향 결정시까지 한국은행 기준금리를...</td>\n",
       "      <td>0.0</td>\n",
       "    </tr>\n",
       "    <tr>\n",
       "      <th>199</th>\n",
       "      <td>흥국화재해상보험(주)</td>\n",
       "      <td>2021</td>\n",
       "      <td>4</td>\n",
       "      <td>77094000</td>\n",
       "      <td>(붙임)통화정책방향 금융통화위원회는 다음 통화정책방향 결정시까지 한국은행 기준금리를...</td>\n",
       "      <td>1.0</td>\n",
       "    </tr>\n",
       "  </tbody>\n",
       "</table>\n",
       "<p>190 rows × 6 columns</p>\n",
       "</div>"
      ],
      "text/plain": [
       "             회사명  회계년도  분기     profit  \\\n",
       "1      DB손해보험(주)  2018   1  210697471   \n",
       "2      DB손해보험(주)  2019   1  232419677   \n",
       "3      DB손해보험(주)  2020   1  226549867   \n",
       "4      DB손해보험(주)  2021   1  221215499   \n",
       "5      DB손해보험(주)  2017   2  192880168   \n",
       "..           ...   ...  ..        ...   \n",
       "195  흥국화재해상보험(주)  2017   4   71589000   \n",
       "196  흥국화재해상보험(주)  2018   4   73599000   \n",
       "197  흥국화재해상보험(주)  2019   4   73006000   \n",
       "198  흥국화재해상보험(주)  2020   4   69680000   \n",
       "199  흥국화재해상보험(주)  2021   4   77094000   \n",
       "\n",
       "                                                  text    Y  \n",
       "1    금융통화위원회는 다음 통화정책방향 결정시까지 한국은행 기준금리를현 수준(1.50%)...  1.0  \n",
       "2    금융통화위원회는 다음 통화정책방향 결정시까지 한국은행 기준금리를현재의 1.50%에서...  1.0  \n",
       "3    금융통화위원회는 다음 통화정책방향 결정시까지 한국은행 기준금리를현 수준(1.25%)...  0.0  \n",
       "4    (붙임)통화정책방향 금융통화위원회는 다음 통화정책방향 결정시까지 한국은행 기준금리를...  0.0  \n",
       "5    금융통화위원회는 다음 통화정책방향 결정시까지 한국은행 기준금리를 현수준(1.25%)...  0.0  \n",
       "..                                                 ...  ...  \n",
       "195  금융통화위원회는 다음 통화정책방향 결정시까지 한국은행 기준금리를 현수준(1.25%)...  0.0  \n",
       "196  금융통화위원회는 다음 통화정책방향 결정시까지 한국은행 기준금리를현 수준(1.50%)...  1.0  \n",
       "197  금융통화위원회는 다음 통화정책방향 결정시까지 한국은행 기준금리를현재의 1.50%에서...  0.0  \n",
       "198  (붙임)통화정책방향 금융통화위원회는 다음 통화정책방향 결정시까지 한국은행 기준금리를...  0.0  \n",
       "199  (붙임)통화정책방향 금융통화위원회는 다음 통화정책방향 결정시까지 한국은행 기준금리를...  1.0  \n",
       "\n",
       "[190 rows x 6 columns]"
      ]
     },
     "execution_count": 39,
     "metadata": {},
     "output_type": "execute_result"
    }
   ],
   "source": [
    "import os\n",
    "import glob\n",
    "import pandas as pd\n",
    "\n",
    "df = pd.read_csv('preprocess/pre_input_6.csv')\n",
    "\n",
    "train_df = df.dropna(subset=['text', 'Y'])\n",
    "valid_df = df[df['text'].isna()]\n",
    "\n",
    "train_df"
   ]
  },
  {
   "cell_type": "code",
   "execution_count": 40,
   "id": "b8be0289-e1de-493a-a726-b39f2a6f2fe6",
   "metadata": {
    "tags": []
   },
   "outputs": [
    {
     "name": "stdout",
     "output_type": "stream",
     "text": [
      "의결문 최대 길이: 3712\n",
      "의결문 평균 길이: 2478.8947368421054\n"
     ]
    },
    {
     "data": {
      "image/png": "[encoded data removed]",
      "text/plain": [
       "<Figure size 640x480 with 2 Axes>"
      ]
     },
     "metadata": {},
     "output_type": "display_data"
    }
   ],
   "source": [
    "import numpy as np\n",
    "\n",
    "text_length = [len(_text)for _text in train_df['text'].values]\n",
    "print(f'의결문 최대 길이: {np.max(text_length)}')\n",
    "print(f'의결문 평균 길이: {np.mean(text_length)}')\n",
    "\n",
    "import matplotlib as mpl\n",
    "import matplotlib.pyplot as plt\n",
    "\n",
    "plt.subplot(1,2,1)\n",
    "plt.boxplot(text_length)\n",
    "plt.subplot(1,2,2)\n",
    "plt.hist(text_length,bins=100)\n",
    "plt.show()"
   ]
  },
  {
   "cell_type": "code",
   "execution_count": 41,
   "id": "c080d2e7-c087-45e9-a41b-5a2094dd89d2",
   "metadata": {
    "tags": []
   },
   "outputs": [],
   "source": [
    "from konlpy.tag import Okt\n",
    "from konlpy.tag import Kkma\n",
    "from sklearn.feature_extraction.text import TfidfVectorizer\n",
    "\n",
    "tokenizer = Okt()\n",
    "\n",
    "tokenized_sentences = []\n",
    "\n",
    "for _, row in train_df.iterrows():\n",
    "    sentence = row['text']\n",
    "    tokens = tokenizer.pos(sentence)\n",
    "    tokenized_sentence = ' '.join([word+'/'+pos for word, pos in tokens])\n",
    "    tokenized_sentences.append(tokenized_sentence)\n",
    "\n",
    "vectorizer = TfidfVectorizer()\n",
    "tfidf_matrix = vectorizer.fit_transform(tokenized_sentences)"
   ]
  },
  {
   "cell_type": "code",
   "execution_count": 43,
   "id": "a396b887-198f-4d1d-aa6d-2f5d57730d73",
   "metadata": {
    "tags": []
   },
   "outputs": [
    {
     "data": {
      "image/png": "[encoded data removed]",
      "text/plain": [
       "<Figure size 640x480 with 2 Axes>"
      ]
     },
     "metadata": {},
     "output_type": "display_data"
    }
   ],
   "source": [
    "lst_profit = [profit for profit in train_df['profit'].values]\n",
    "lst_label = [label for label in train_df['Y'].values]\n",
    "\n",
    "plt.subplot(1,2,1)\n",
    "plt.boxplot(lst_profit)\n",
    "plt.subplot(1,2,2)\n",
    "plt.hist(lst_profit, bins=500)\n",
    "plt.show()"
   ]
  },
  {
   "cell_type": "code",
   "execution_count": 44,
   "id": "87ac9864-6255-4e77-a447-fa0552fd429e",
   "metadata": {
    "tags": []
   },
   "outputs": [],
   "source": [
    "import re\n",
    "from tensorflow.keras.datasets import imdb\n",
    "from tensorflow.keras.preprocessing.sequence import pad_sequences\n",
    "from tensorflow.keras.models import Sequential\n",
    "from tensorflow.keras.layers import Dense, GRU, Embedding\n",
    "from tensorflow.keras.callbacks import EarlyStopping, ModelCheckpoint\n",
    "from tensorflow.keras.models import load_model"
   ]
  },
  {
   "cell_type": "code",
   "execution_count": 45,
   "id": "bc3db358-dd35-46da-9d92-aecb49944b74",
   "metadata": {
    "tags": []
   },
   "outputs": [],
   "source": [
    "from sklearn.linear_model import LinearRegression\n",
    "from sklearn.model_selection import train_test_split\n",
    "from sklearn.metrics import mean_squared_error, mean_absolute_error\n",
    "from sklearn.metrics import r2_score\n",
    "\n",
    "X = tfidf_matrix.toarray()\n",
    "y = train_df['Y']\n",
    "\n",
    "vocab_size = 10000\n",
    "max_len = 2550\n",
    "\n",
    "X_train, X_test, y_train, y_test = train_test_split(X, y, test_size=0.2, random_state=1892)\n",
    "X_train = pad_sequences(X_train, maxlen=max_len)"
   ]
  },
  {
   "cell_type": "code",
   "execution_count": 49,
   "id": "d9327cca-1323-451a-b594-656b86e0a12d",
   "metadata": {
    "tags": []
   },
   "outputs": [
    {
     "name": "stdout",
     "output_type": "stream",
     "text": [
      "Epoch 1/15\n"
     ]
    },
    {
     "name": "stderr",
     "output_type": "stream",
     "text": [
      "2023-06-20 01:08:03.921350: I tensorflow/core/common_runtime/executor.cc:1197] [/device:CPU:0] (DEBUG INFO) Executor start aborting (this does not indicate an error and you can ignore this message): INVALID_ARGUMENT: You must feed a value for placeholder tensor 'gradients/split_2_grad/concat/split_2/split_dim' with dtype int32\n",
      "\t [[{{node gradients/split_2_grad/concat/split_2/split_dim}}]]\n",
      "2023-06-20 01:08:03.924462: I tensorflow/core/common_runtime/executor.cc:1197] [/device:CPU:0] (DEBUG INFO) Executor start aborting (this does not indicate an error and you can ignore this message): INVALID_ARGUMENT: You must feed a value for placeholder tensor 'gradients/split_grad/concat/split/split_dim' with dtype int32\n",
      "\t [[{{node gradients/split_grad/concat/split/split_dim}}]]\n",
      "2023-06-20 01:08:03.926961: I tensorflow/core/common_runtime/executor.cc:1197] [/device:CPU:0] (DEBUG INFO) Executor start aborting (this does not indicate an error and you can ignore this message): INVALID_ARGUMENT: You must feed a value for placeholder tensor 'gradients/split_1_grad/concat/split_1/split_dim' with dtype int32\n",
      "\t [[{{node gradients/split_1_grad/concat/split_1/split_dim}}]]\n",
      "2023-06-20 01:08:04.267624: I tensorflow/core/common_runtime/executor.cc:1197] [/device:CPU:0] (DEBUG INFO) Executor start aborting (this does not indicate an error and you can ignore this message): INVALID_ARGUMENT: You must feed a value for placeholder tensor 'gradients/split_2_grad/concat/split_2/split_dim' with dtype int32\n",
      "\t [[{{node gradients/split_2_grad/concat/split_2/split_dim}}]]\n",
      "2023-06-20 01:08:04.269725: I tensorflow/core/common_runtime/executor.cc:1197] [/device:CPU:0] (DEBUG INFO) Executor start aborting (this does not indicate an error and you can ignore this message): INVALID_ARGUMENT: You must feed a value for placeholder tensor 'gradients/split_grad/concat/split/split_dim' with dtype int32\n",
      "\t [[{{node gradients/split_grad/concat/split/split_dim}}]]\n",
      "2023-06-20 01:08:04.271591: I tensorflow/core/common_runtime/executor.cc:1197] [/device:CPU:0] (DEBUG INFO) Executor start aborting (this does not indicate an error and you can ignore this message): INVALID_ARGUMENT: You must feed a value for placeholder tensor 'gradients/split_1_grad/concat/split_1/split_dim' with dtype int32\n",
      "\t [[{{node gradients/split_1_grad/concat/split_1/split_dim}}]]\n",
      "2023-06-20 01:08:05.470116: I tensorflow/core/common_runtime/executor.cc:1197] [/device:CPU:0] (DEBUG INFO) Executor start aborting (this does not indicate an error and you can ignore this message): INVALID_ARGUMENT: You must feed a value for placeholder tensor 'gradients/split_2_grad/concat/split_2/split_dim' with dtype int32\n",
      "\t [[{{node gradients/split_2_grad/concat/split_2/split_dim}}]]\n",
      "2023-06-20 01:08:05.472556: I tensorflow/core/common_runtime/executor.cc:1197] [/device:CPU:0] (DEBUG INFO) Executor start aborting (this does not indicate an error and you can ignore this message): INVALID_ARGUMENT: You must feed a value for placeholder tensor 'gradients/split_grad/concat/split/split_dim' with dtype int32\n",
      "\t [[{{node gradients/split_grad/concat/split/split_dim}}]]\n",
      "2023-06-20 01:08:05.474479: I tensorflow/core/common_runtime/executor.cc:1197] [/device:CPU:0] (DEBUG INFO) Executor start aborting (this does not indicate an error and you can ignore this message): INVALID_ARGUMENT: You must feed a value for placeholder tensor 'gradients/split_1_grad/concat/split_1/split_dim' with dtype int32\n",
      "\t [[{{node gradients/split_1_grad/concat/split_1/split_dim}}]]\n"
     ]
    },
    {
     "name": "stdout",
     "output_type": "stream",
     "text": [
      "16/16 [==============================] - ETA: 0s - loss: 0.6993 - acc: 0.4959"
     ]
    },
    {
     "name": "stderr",
     "output_type": "stream",
     "text": [
      "2023-06-20 01:08:31.460927: I tensorflow/core/common_runtime/executor.cc:1197] [/device:CPU:0] (DEBUG INFO) Executor start aborting (this does not indicate an error and you can ignore this message): INVALID_ARGUMENT: You must feed a value for placeholder tensor 'gradients/split_2_grad/concat/split_2/split_dim' with dtype int32\n",
      "\t [[{{node gradients/split_2_grad/concat/split_2/split_dim}}]]\n",
      "2023-06-20 01:08:31.463121: I tensorflow/core/common_runtime/executor.cc:1197] [/device:CPU:0] (DEBUG INFO) Executor start aborting (this does not indicate an error and you can ignore this message): INVALID_ARGUMENT: You must feed a value for placeholder tensor 'gradients/split_grad/concat/split/split_dim' with dtype int32\n",
      "\t [[{{node gradients/split_grad/concat/split/split_dim}}]]\n",
      "2023-06-20 01:08:31.464696: I tensorflow/core/common_runtime/executor.cc:1197] [/device:CPU:0] (DEBUG INFO) Executor start aborting (this does not indicate an error and you can ignore this message): INVALID_ARGUMENT: You must feed a value for placeholder tensor 'gradients/split_1_grad/concat/split_1/split_dim' with dtype int32\n",
      "\t [[{{node gradients/split_1_grad/concat/split_1/split_dim}}]]\n"
     ]
    },
    {
     "name": "stdout",
     "output_type": "stream",
     "text": [
      "\n",
      "Epoch 1: val_acc improved from -inf to 0.48387, saving model to ckcp/GRU_model.h5\n",
      "16/16 [==============================] - 29s 2s/step - loss: 0.6993 - acc: 0.4959 - val_loss: 0.7052 - val_acc: 0.4839\n",
      "Epoch 2/15\n",
      "16/16 [==============================] - ETA: 0s - loss: 0.6963 - acc: 0.5289\n",
      "Epoch 2: val_acc did not improve from 0.48387\n",
      "16/16 [==============================] - 26s 2s/step - loss: 0.6963 - acc: 0.5289 - val_loss: 0.7036 - val_acc: 0.4839\n",
      "Epoch 3/15\n",
      "16/16 [==============================] - ETA: 0s - loss: 0.6939 - acc: 0.5289\n",
      "Epoch 3: val_acc did not improve from 0.48387\n",
      "16/16 [==============================] - 28s 2s/step - loss: 0.6939 - acc: 0.5289 - val_loss: 0.7037 - val_acc: 0.4839\n",
      "Epoch 4/15\n",
      "16/16 [==============================] - ETA: 0s - loss: 0.6971 - acc: 0.5289\n",
      "Epoch 4: val_acc did not improve from 0.48387\n",
      "16/16 [==============================] - 27s 2s/step - loss: 0.6971 - acc: 0.5289 - val_loss: 0.6953 - val_acc: 0.4839\n",
      "Epoch 5/15\n",
      "16/16 [==============================] - ETA: 0s - loss: 0.6941 - acc: 0.5289\n",
      "Epoch 5: val_acc did not improve from 0.48387\n",
      "16/16 [==============================] - 32s 2s/step - loss: 0.6941 - acc: 0.5289 - val_loss: 0.6997 - val_acc: 0.4839\n",
      "Epoch 6/15\n",
      "16/16 [==============================] - ETA: 0s - loss: 0.6951 - acc: 0.5289\n",
      "Epoch 6: val_acc did not improve from 0.48387\n",
      "16/16 [==============================] - 27s 2s/step - loss: 0.6951 - acc: 0.5289 - val_loss: 0.7012 - val_acc: 0.4839\n",
      "Epoch 7/15\n",
      "16/16 [==============================] - ETA: 0s - loss: 0.6949 - acc: 0.5289\n",
      "Epoch 7: val_acc did not improve from 0.48387\n",
      "16/16 [==============================] - 27s 2s/step - loss: 0.6949 - acc: 0.5289 - val_loss: 0.7022 - val_acc: 0.4839\n",
      "Epoch 8/15\n",
      "16/16 [==============================] - ETA: 0s - loss: 0.6942 - acc: 0.5289\n",
      "Epoch 8: val_acc did not improve from 0.48387\n",
      "16/16 [==============================] - 27s 2s/step - loss: 0.6942 - acc: 0.5289 - val_loss: 0.6951 - val_acc: 0.4839\n",
      "Epoch 9/15\n",
      "16/16 [==============================] - ETA: 0s - loss: 0.6952 - acc: 0.5289\n",
      "Epoch 9: val_acc did not improve from 0.48387\n",
      "16/16 [==============================] - 27s 2s/step - loss: 0.6952 - acc: 0.5289 - val_loss: 0.6942 - val_acc: 0.4839\n",
      "Epoch 10/15\n",
      "16/16 [==============================] - ETA: 0s - loss: 0.6928 - acc: 0.5289\n",
      "Epoch 10: val_acc did not improve from 0.48387\n",
      "16/16 [==============================] - 27s 2s/step - loss: 0.6928 - acc: 0.5289 - val_loss: 0.6931 - val_acc: 0.4839\n",
      "Epoch 11/15\n",
      "16/16 [==============================] - ETA: 0s - loss: 0.6937 - acc: 0.5124\n",
      "Epoch 11: val_acc did not improve from 0.48387\n",
      "16/16 [==============================] - 26s 2s/step - loss: 0.6937 - acc: 0.5124 - val_loss: 0.6959 - val_acc: 0.4839\n",
      "Epoch 12/15\n",
      "16/16 [==============================] - ETA: 0s - loss: 0.6932 - acc: 0.5289\n",
      "Epoch 12: val_acc did not improve from 0.48387\n",
      "16/16 [==============================] - 26s 2s/step - loss: 0.6932 - acc: 0.5289 - val_loss: 0.6945 - val_acc: 0.4839\n",
      "Epoch 13/15\n",
      "16/16 [==============================] - ETA: 0s - loss: 0.6924 - acc: 0.5289\n",
      "Epoch 13: val_acc did not improve from 0.48387\n",
      "16/16 [==============================] - 26s 2s/step - loss: 0.6924 - acc: 0.5289 - val_loss: 0.6941 - val_acc: 0.4839\n",
      "Epoch 14/15\n",
      "16/16 [==============================] - ETA: 0s - loss: 0.6933 - acc: 0.5289\n",
      "Epoch 14: val_acc did not improve from 0.48387\n",
      "16/16 [==============================] - 27s 2s/step - loss: 0.6933 - acc: 0.5289 - val_loss: 0.6935 - val_acc: 0.4839\n",
      "Epoch 14: early stopping\n"
     ]
    }
   ],
   "source": [
    "embedding_dim = 100\n",
    "hidden_units = 128\n",
    "\n",
    "model = Sequential()\n",
    "model.add(Embedding(vocab_size, embedding_dim))\n",
    "model.add(GRU(hidden_units))\n",
    "model.add(Dense(1, activation='sigmoid'))\n",
    "\n",
    "es = EarlyStopping(monitor='val_loss', mode='min', verbose=1, patience=4)\n",
    "mc = ModelCheckpoint('ckcp/GRU_model.h5', monitor='val_acc', mode='max', verbose=1, save_best_only=True)\n",
    "\n",
    "model.compile(optimizer='rmsprop', loss='binary_crossentropy', metrics=['acc'])\n",
    "history = model.fit(X_train, y_train, epochs=15, callbacks=[es, mc], batch_size=8, validation_split=0.2)"
   ]
  }
 ],
 "metadata": {
  "kernelspec": {
   "display_name": "Python 3 (ipykernel)",
   "language": "python",
   "name": "python3"
  },
  "language_info": {
   "codemirror_mode": {
    "name": "ipython",
    "version": 3
   },
   "file_extension": ".py",
   "mimetype": "text/x-python",
   "name": "python",
   "nbconvert_exporter": "python",
   "pygments_lexer": "ipython3",
   "version": "3.10.11"
  }
 },
 "nbformat": 4,
 "nbformat_minor": 5
}
